{
  "nbformat": 4,
  "nbformat_minor": 0,
  "metadata": {
    "colab": {
      "name": "shapeAI.ipynb",
      "provenance": [],
      "collapsed_sections": [],
      "authorship_tag": "ABX9TyNG5bZmhoAV3uzc4LjXyXp2",
      "include_colab_link": true
    },
    "kernelspec": {
      "name": "python3",
      "display_name": "Python 3"
    }
  },
  "cells": [
    {
      "cell_type": "markdown",
      "metadata": {
        "id": "view-in-github",
        "colab_type": "text"
      },
      "source": [
        "<a href=\"https://colab.research.google.com/github/tf153/Learning/blob/master/shapeAI.ipynb\" target=\"_parent\"><img src=\"https://colab.research.google.com/assets/colab-badge.svg\" alt=\"Open In Colab\"/></a>"
      ]
    },
    {
      "cell_type": "code",
      "metadata": {
        "id": "gxLCSSOQv8oX"
      },
      "source": [
        "import tensorflow as tf\r\n",
        "from tensorflow.keras.models import Sequential\r\n",
        "from tensorflow.keras.layers import Input,Dense,Dropout\r\n",
        "import numpy as np\r\n",
        "import matplotlib.pyplot as plt\r\n",
        "from keras.utils import np_utils"
      ],
      "execution_count": null,
      "outputs": []
    },
    {
      "cell_type": "code",
      "metadata": {
        "id": "ei_fuyi-wz3f"
      },
      "source": [
        "fashion_mnist = tf.keras.datasets.fashion_mnist"
      ],
      "execution_count": null,
      "outputs": []
    },
    {
      "cell_type": "code",
      "metadata": {
        "id": "_V_8p3RNxPHq"
      },
      "source": [
        "(X_train, y_train), (X_test, y_test) = fashion_mnist.load_data()"
      ],
      "execution_count": null,
      "outputs": []
    },
    {
      "cell_type": "code",
      "metadata": {
        "colab": {
          "base_uri": "https://localhost:8080/",
          "height": 268
        },
        "id": "yfl82FgaxV71",
        "outputId": "73801ba4-d000-4ae2-d34e-0f4e296d80a0"
      },
      "source": [
        "plt.subplot(222)\r\n",
        "plt.imshow(X_train[0], cmap=plt.get_cmap('gray'))\r\n",
        "plt.subplot(221)\r\n",
        "plt.imshow(X_train[1], cmap=plt.get_cmap('gray'))\r\n",
        "plt.subplot(223)\r\n",
        "plt.imshow(X_train[2], cmap=plt.get_cmap('gray'))\r\n",
        "plt.subplot(224)\r\n",
        "plt.imshow(X_train[3], cmap=plt.get_cmap('gray'))\r\n",
        "# show the plot\r\n",
        "plt.show()"
      ],
      "execution_count": null,
      "outputs": [
        {
          "output_type": "display_data",
          "data": {
            "image/png": "[encoded data removed]",
            "text/plain": [
              "<Figure size 432x288 with 4 Axes>"
            ]
          },
          "metadata": {
            "tags": [],
            "needs_background": "light"
          }
        }
      ]
    },
    {
      "cell_type": "code",
      "metadata": {
        "id": "vjcenVBmxstV"
      },
      "source": [
        "X_train = X_train.reshape((X_train.shape[0], 28*28)).astype('float32')\r\n",
        "X_test = X_test.reshape((X_test.shape[0], 28*28)).astype('float32')"
      ],
      "execution_count": null,
      "outputs": []
    },
    {
      "cell_type": "code",
      "metadata": {
        "id": "_1igiC2ayybI"
      },
      "source": [
        "X_train = X_train / 255\r\n",
        "X_test = X_test / 255"
      ],
      "execution_count": null,
      "outputs": []
    },
    {
      "cell_type": "code",
      "metadata": {
        "id": "x9zO5mtEy1fu"
      },
      "source": [
        "y_train = np_utils.to_categorical(y_train)\r\n",
        "y_test = np_utils.to_categorical(y_test)\r\n",
        "num_classes = y_test.shape[1]"
      ],
      "execution_count": null,
      "outputs": []
    },
    {
      "cell_type": "code",
      "metadata": {
        "id": "jHYfQRGFzTEs"
      },
      "source": [
        "model=Sequential()\r\n",
        "model.add(Dense(56,input_dim=28*28,activation='relu'))\r\n",
        "model.add(Dense(224,activation='relu'))\r\n",
        "model.add(Dense(448,activation='relu'))\r\n",
        "model.add(Dense(224,activation='relu'))\r\n",
        "model.add(Dense(112,activation='relu'))\r\n",
        "model.add(Dense(10, activation='softmax'))"
      ],
      "execution_count": null,
      "outputs": []
    },
    {
      "cell_type": "code",
      "metadata": {
        "id": "ZiYTs9S30kKH"
      },
      "source": [
        "model.compile(loss='categorical_crossentropy', optimizer='adam', metrics=['accuracy'])"
      ],
      "execution_count": null,
      "outputs": []
    },
    {
      "cell_type": "code",
      "metadata": {
        "colab": {
          "base_uri": "https://localhost:8080/"
        },
        "id": "NbuwoT1q0olV",
        "outputId": "03cf630c-137e-450c-ae2d-4acd018f207f"
      },
      "source": [
        "model.summary()"
      ],
      "execution_count": null,
      "outputs": [
        {
          "output_type": "stream",
          "text": [
            "Model: \"sequential_4\"\n",
            "_________________________________________________________________\n",
            "Layer (type)                 Output Shape              Param #   \n",
            "=================================================================\n",
            "dense_24 (Dense)             (None, 56)                43960     \n",
            "_________________________________________________________________\n",
            "dense_25 (Dense)             (None, 224)               12768     \n",
            "_________________________________________________________________\n",
            "dense_26 (Dense)             (None, 448)               100800    \n",
            "_________________________________________________________________\n",
            "dense_27 (Dense)             (None, 224)               100576    \n",
            "_________________________________________________________________\n",
            "dense_28 (Dense)             (None, 112)               25200     \n",
            "_________________________________________________________________\n",
            "dense_29 (Dense)             (None, 10)                1130      \n",
            "=================================================================\n",
            "Total params: 284,434\n",
            "Trainable params: 284,434\n",
            "Non-trainable params: 0\n",
            "_________________________________________________________________\n"
          ],
          "name": "stdout"
        }
      ]
    },
    {
      "cell_type": "code",
      "metadata": {
        "colab": {
          "base_uri": "https://localhost:8080/"
        },
        "id": "R85qrtYQ0vlw",
        "outputId": "e4796461-4685-4c01-cffc-e797284d7745"
      },
      "source": [
        "model.fit(X_train, y_train, validation_split=0.2, epochs=10, batch_size=100)"
      ],
      "execution_count": null,
      "outputs": [
        {
          "output_type": "stream",
          "text": [
            "Epoch 1/10\n",
            "480/480 [==============================] - 5s 9ms/step - loss: 0.7634 - accuracy: 0.7282 - val_loss: 0.4253 - val_accuracy: 0.8409\n",
            "Epoch 2/10\n",
            "480/480 [==============================] - 4s 8ms/step - loss: 0.4103 - accuracy: 0.8480 - val_loss: 0.3728 - val_accuracy: 0.8627\n",
            "Epoch 3/10\n",
            "480/480 [==============================] - 4s 8ms/step - loss: 0.3510 - accuracy: 0.8706 - val_loss: 0.3687 - val_accuracy: 0.8643\n",
            "Epoch 4/10\n",
            "480/480 [==============================] - 4s 8ms/step - loss: 0.3301 - accuracy: 0.8765 - val_loss: 0.3540 - val_accuracy: 0.8726\n",
            "Epoch 5/10\n",
            "480/480 [==============================] - 4s 8ms/step - loss: 0.3052 - accuracy: 0.8867 - val_loss: 0.3216 - val_accuracy: 0.8853\n",
            "Epoch 6/10\n",
            "480/480 [==============================] - 4s 8ms/step - loss: 0.2943 - accuracy: 0.8911 - val_loss: 0.3362 - val_accuracy: 0.8723\n",
            "Epoch 7/10\n",
            "480/480 [==============================] - 4s 8ms/step - loss: 0.2713 - accuracy: 0.8990 - val_loss: 0.3416 - val_accuracy: 0.8804\n",
            "Epoch 8/10\n",
            "480/480 [==============================] - 4s 8ms/step - loss: 0.2624 - accuracy: 0.9008 - val_loss: 0.3250 - val_accuracy: 0.8867\n",
            "Epoch 9/10\n",
            "480/480 [==============================] - 4s 8ms/step - loss: 0.2554 - accuracy: 0.9051 - val_loss: 0.3318 - val_accuracy: 0.8849\n",
            "Epoch 10/10\n",
            "480/480 [==============================] - 4s 8ms/step - loss: 0.2467 - accuracy: 0.9072 - val_loss: 0.3246 - val_accuracy: 0.8903\n"
          ],
          "name": "stdout"
        },
        {
          "output_type": "execute_result",
          "data": {
            "text/plain": [
              "<tensorflow.python.keras.callbacks.History at 0x7f7d89bb1630>"
            ]
          },
          "metadata": {
            "tags": []
          },
          "execution_count": 57
        }
      ]
    },
    {
      "cell_type": "code",
      "metadata": {
        "colab": {
          "base_uri": "https://localhost:8080/"
        },
        "id": "b4I_7reD4wpk",
        "outputId": "57d3d1e2-af69-472d-be6f-d1c8d4be52c1"
      },
      "source": [
        "model.fit(X_train, y_train, validation_split=0.5, epochs=10, batch_size=500)"
      ],
      "execution_count": null,
      "outputs": [
        {
          "output_type": "stream",
          "text": [
            "Epoch 1/10\n",
            "60/60 [==============================] - 2s 33ms/step - loss: 0.2017 - accuracy: 0.9228 - val_loss: 0.2419 - val_accuracy: 0.9136\n",
            "Epoch 2/10\n",
            "60/60 [==============================] - 2s 31ms/step - loss: 0.1849 - accuracy: 0.9285 - val_loss: 0.2444 - val_accuracy: 0.9113\n",
            "Epoch 3/10\n",
            "60/60 [==============================] - 2s 31ms/step - loss: 0.1747 - accuracy: 0.9321 - val_loss: 0.2441 - val_accuracy: 0.9135\n",
            "Epoch 4/10\n",
            "60/60 [==============================] - 2s 31ms/step - loss: 0.1677 - accuracy: 0.9353 - val_loss: 0.2465 - val_accuracy: 0.9140\n",
            "Epoch 5/10\n",
            "60/60 [==============================] - 2s 31ms/step - loss: 0.1604 - accuracy: 0.9385 - val_loss: 0.2526 - val_accuracy: 0.9122\n",
            "Epoch 6/10\n",
            "60/60 [==============================] - 2s 31ms/step - loss: 0.1559 - accuracy: 0.9398 - val_loss: 0.2554 - val_accuracy: 0.9128\n",
            "Epoch 7/10\n",
            "60/60 [==============================] - 2s 31ms/step - loss: 0.1499 - accuracy: 0.9419 - val_loss: 0.2598 - val_accuracy: 0.9119\n",
            "Epoch 8/10\n",
            "60/60 [==============================] - 2s 31ms/step - loss: 0.1472 - accuracy: 0.9430 - val_loss: 0.2669 - val_accuracy: 0.9108\n",
            "Epoch 9/10\n",
            "60/60 [==============================] - 2s 30ms/step - loss: 0.1382 - accuracy: 0.9468 - val_loss: 0.2784 - val_accuracy: 0.9103\n",
            "Epoch 10/10\n",
            "60/60 [==============================] - 2s 31ms/step - loss: 0.1324 - accuracy: 0.9490 - val_loss: 0.2782 - val_accuracy: 0.9091\n"
          ],
          "name": "stdout"
        },
        {
          "output_type": "execute_result",
          "data": {
            "text/plain": [
              "<tensorflow.python.keras.callbacks.History at 0x7f7d98f34eb8>"
            ]
          },
          "metadata": {
            "tags": []
          },
          "execution_count": 58
        }
      ]
    },
    {
      "cell_type": "code",
      "metadata": {
        "colab": {
          "base_uri": "https://localhost:8080/"
        },
        "id": "R4W7-Pmo42Re",
        "outputId": "e896d850-a70d-4907-817c-c4ddf7bafd54"
      },
      "source": [
        "model.fit(X_train, y_train, validation_split=0.9, epochs=10, batch_size=500)"
      ],
      "execution_count": null,
      "outputs": [
        {
          "output_type": "stream",
          "text": [
            "Epoch 1/10\n",
            "12/12 [==============================] - 2s 117ms/step - loss: 0.1246 - accuracy: 0.9518 - val_loss: 0.2116 - val_accuracy: 0.9301\n",
            "Epoch 2/10\n",
            "12/12 [==============================] - 1s 100ms/step - loss: 0.1048 - accuracy: 0.9622 - val_loss: 0.2216 - val_accuracy: 0.9284\n",
            "Epoch 3/10\n",
            "12/12 [==============================] - 1s 102ms/step - loss: 0.0913 - accuracy: 0.9647 - val_loss: 0.2308 - val_accuracy: 0.9249\n",
            "Epoch 4/10\n",
            "12/12 [==============================] - 1s 102ms/step - loss: 0.0807 - accuracy: 0.9730 - val_loss: 0.2413 - val_accuracy: 0.9252\n",
            "Epoch 5/10\n",
            "12/12 [==============================] - 1s 101ms/step - loss: 0.0713 - accuracy: 0.9745 - val_loss: 0.2476 - val_accuracy: 0.9237\n",
            "Epoch 6/10\n",
            "12/12 [==============================] - 1s 101ms/step - loss: 0.0640 - accuracy: 0.9778 - val_loss: 0.2623 - val_accuracy: 0.9235\n",
            "Epoch 7/10\n",
            "12/12 [==============================] - 1s 100ms/step - loss: 0.0570 - accuracy: 0.9800 - val_loss: 0.2673 - val_accuracy: 0.9225\n",
            "Epoch 8/10\n",
            "12/12 [==============================] - 1s 100ms/step - loss: 0.0515 - accuracy: 0.9833 - val_loss: 0.2768 - val_accuracy: 0.9210\n",
            "Epoch 9/10\n",
            "12/12 [==============================] - 1s 103ms/step - loss: 0.0428 - accuracy: 0.9858 - val_loss: 0.3124 - val_accuracy: 0.9162\n",
            "Epoch 10/10\n",
            "12/12 [==============================] - 1s 101ms/step - loss: 0.0396 - accuracy: 0.9882 - val_loss: 0.3090 - val_accuracy: 0.9158\n"
          ],
          "name": "stdout"
        },
        {
          "output_type": "execute_result",
          "data": {
            "text/plain": [
              "<tensorflow.python.keras.callbacks.History at 0x7f7d8a2054a8>"
            ]
          },
          "metadata": {
            "tags": []
          },
          "execution_count": 59
        }
      ]
    },
    {
      "cell_type": "code",
      "metadata": {
        "colab": {
          "base_uri": "https://localhost:8080/"
        },
        "id": "_JwmamCy1AFq",
        "outputId": "f6d5cd60-2257-41f8-9bf1-69f7dd7e7d10"
      },
      "source": [
        "scores = model.evaluate(X_test, y_test)\r\n",
        "print(scores)"
      ],
      "execution_count": null,
      "outputs": [
        {
          "output_type": "stream",
          "text": [
            "313/313 [==============================] - 1s 2ms/step - loss: 0.5714 - accuracy: 0.8783\n",
            "[0.5713599920272827, 0.8783000111579895]\n"
          ],
          "name": "stdout"
        }
      ]
    }
  ]
}